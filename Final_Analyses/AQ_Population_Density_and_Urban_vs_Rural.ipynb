{
 "cells": [
  {
   "cell_type": "markdown",
   "metadata": {},
   "source": [
    "## Analysis Report\n"
   ]
  },
  {
   "cell_type": "markdown",
   "metadata": {},
   "source": [
    "#### Introduction\n",
    "\n",
    "The correlation between population density and air pollution levels has long been a topic of interest and concern in environmental studies. This report presents an analysis of data pertaining to six key air pollutants and exploring their correlation with Australian population density. This study also illustrates the variations in air pollution levels between urban and rural areas across Australia.\n",
    "\n",
    "\n"
   ]
  },
  {
   "cell_type": "markdown",
   "metadata": {},
   "source": [
    "#### Methodolody\n",
    "\n",
    "The quantitative method was used to test the hypotheses.\n",
    "\n",
    "The research looked at a data from 1800 Statistical Areas Level 2 in Australia regarding to their populations, population densities, and the monthly air quailty parameters such as CO, O3, NO2, SO2, PM2.5 and PM10 in 2010. The population and poulation density data was collected from Australian Bureau of Statistics, while the key pollutant data was collected from OpenWeather using API.\n",
    "\n",
    "The quantitative data analysis was used to calculate inferential statistics - correlation to identify the relation between population density and air pollution levels and descriptive statistics to compare the air quality between urban and rural areas in Australia.\n",
    "\n",
    "The study employed a quantitative research method to investigate the hypotheses. \n",
    "\n",
    "Data from 1800 Statistical Areas Level 2 in Australia were analyzed, focusing on population demographics, population densities, and monthly air quality parameters (CO, O3, NO2, SO2, PM2.5, and PM10) in the year 2021. Population and population density information were sourced from the Australian Bureau of Statistics, while key pollutant data was obtained from OpenWeather API.\n",
    "\n",
    "The quantitative analysis involved the use of inferential statistics, specifically correlation analysis, to examine the relationship between population density and air pollution levels. Additionally, descriptive statistics, specifically T-test were utilized to compare air quality levels between urban and rural regions in Australia.\n"
   ]
  },
  {
   "cell_type": "markdown",
   "metadata": {},
   "source": [
    "#### Analysis outcomes\n",
    "\n",
    "The analysis reveals that the correlation between monthly air quality parameters (CO, O3, NO2, SO2, PM2.5, and PM10) and the population density fall within the range of -0.3 to 0.3, indicating a weak linear relationship between the population density and the air pollution levels. This suggests that changess in population density are not strongly associated with changes in the air quality index.\n",
    "\n",
    "Regarding to Urban and Rural comparision, the analysis reveals that the P-values between 5 over 6 key pollutants are less than 0.05, which indicates that there is a significant difference between the monthly air quality parameters in urban and rural areas. Therefore, the hypothesis was supported and confirmed.\n"
   ]
  },
  {
   "cell_type": "markdown",
   "metadata": {},
   "source": [
    "#### Limitation\n",
    "\n",
    "##### Limied temporal scope\n",
    "A one-year timeframe may not capture long-term trends, resulted in certain trends or patterns that occur over longer periods maybe missed.\n",
    "\n",
    "##### Limited spatial scope\n",
    "Focusing solely on data collected in Australia may limnit the generalizability of the findings to other regions or countries. \n",
    "The specific characteristics of Australia may not be representative of global trends. Australia's unique characteristics, including its low population density, stringent environmental regulations, and geographic location, contribute to its notably superior air quality compared to many other countries. Therefore, using Australia as the sample country may introduce sample bias for this study.\n"
   ]
  },
  {
   "cell_type": "markdown",
   "metadata": {},
   "source": [
    "#### References\n",
    "1. Australian Bureau of Statistics (2021) Regional Population. Available at https://www.abs.gov.au/statistics/people/population/regional-population/latest-release\n"
   ]
  },
  {
   "cell_type": "markdown",
   "metadata": {},
   "source": []
  }
 ],
 "metadata": {
  "language_info": {
   "name": "python"
  }
 },
 "nbformat": 4,
 "nbformat_minor": 2
}
