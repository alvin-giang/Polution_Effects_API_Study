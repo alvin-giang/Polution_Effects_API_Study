{
 "cells": [
  {
   "cell_type": "code",
   "execution_count": 2,
   "metadata": {},
   "outputs": [],
   "source": [
    "from pathlib import Path\n",
    "import pandas as pd\n",
    "\n",
    "def format_with_commas(x):\n",
    "    return '{:,.0f}'.format(x)\n",
    "\n",
    "pd.options.display.float_format = format_with_commas\n",
    "\n",
    "file_paths = [\n",
    "    Path(\"IHME-GBD_2000_2019_DATA_DEPRESSION.csv\")\n",
    "]\n",
    "\n",
    "dfs = pd.read_csv(file_paths[0])\n",
    "location_depression_2000_2019 = dfs.drop(columns=['upper', 'lower','location_id','sex_id','age_id','measure_id','metric_id','metric_name', 'measure_name', 'cause_id']) \\\n",
    "                             .query('cause_name == \"Depressive disorders\"') \\\n",
    "                             .rename(columns={'age_name': 'Age Group', 'location_name': 'Location', 'sex_name': 'Gender', 'year': 'Year', 'cause_name': 'Disorder', 'val': 'Nbr. Cases in Pop.'}) \\\n",
    "                             .reset_index(drop=True)\n",
    "\n",
    "location_depression_2000_2019\n",
    "\n",
    "output_csv_path =\"GBD_Depression_Data_2000_2019.csv\"\n",
    "location_depression_2000_2019.to_csv(output_csv_path, index=False, encoding='utf-8')\n"
   ]
  }
 ],
 "metadata": {
  "kernelspec": {
   "display_name": "dev",
   "language": "python",
   "name": "python3"
  },
  "language_info": {
   "codemirror_mode": {
    "name": "ipython",
    "version": 3
   },
   "file_extension": ".py",
   "mimetype": "text/x-python",
   "name": "python",
   "nbconvert_exporter": "python",
   "pygments_lexer": "ipython3",
   "version": "3.10.14"
  }
 },
 "nbformat": 4,
 "nbformat_minor": 2
}
